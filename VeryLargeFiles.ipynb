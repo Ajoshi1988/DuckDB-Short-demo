{
 "cells": [
  {
   "cell_type": "code",
   "execution_count": 8,
   "id": "1a952223-7c29-47b3-94c3-09241dd8fe02",
   "metadata": {},
   "outputs": [],
   "source": [
    "import duckdb\n",
    "import pandas as pd\n",
    "import timeit\n",
    "import time\n",
    "import polars as plr"
   ]
  },
  {
   "cell_type": "code",
   "execution_count": 9,
   "id": "136cfa68-3781-4f0f-b734-cf996ed2b536",
   "metadata": {},
   "outputs": [],
   "source": [
    "def measure_time(func):\n",
    "    def wrapper(*args, **kwargs):\n",
    "        # Code before calling the original function\n",
    "\n",
    "       \n",
    "        \n",
    "        start = time.time()\n",
    "        result = func(*args, **kwargs)\n",
    "        end = time.time()\n",
    "\n",
    "        time_taken=end-start\n",
    "        print(f\"Time elapased is {time_taken} seconds\")\n",
    "        return time_taken\n",
    "    return wrapper\n"
   ]
  },
  {
   "cell_type": "code",
   "execution_count": 3,
   "id": "081f6819-07ce-490b-9e4c-b6102a86725c",
   "metadata": {},
   "outputs": [
    {
     "name": "stdout",
     "output_type": "stream",
     "text": [
      "Time elapased is 0.19401121139526367 seconds\n"
     ]
    },
    {
     "data": {
      "text/plain": [
       "0.19401121139526367"
      ]
     },
     "execution_count": 3,
     "metadata": {},
     "output_type": "execute_result"
    }
   ],
   "source": [
    "@measure_time\n",
    "def load_dataset():\n",
    "\n",
    "    db_df=duckdb.read_csv(\"custom_1988_2020.csv\")\n",
    "\n",
    "# Call the function\n",
    "load_dataset()"
   ]
  },
  {
   "cell_type": "code",
   "execution_count": null,
   "id": "21d14896-fba5-46e5-9aa5-6994c4098c36",
   "metadata": {},
   "outputs": [],
   "source": [
    "@measure_time\n",
    "def load_dataset():\n",
    "\n",
    "    pd_df=pd.read_csv(\"custom_1988_2020.csv\")\n",
    "\n",
    "# Call the function\n",
    "load_dataset()\n",
    "\n"
   ]
  },
  {
   "cell_type": "code",
   "execution_count": null,
   "id": "7a51d8e2-d314-4ea0-ae15-e29786eb5135",
   "metadata": {},
   "outputs": [],
   "source": [
    "@measure_time\n",
    "def load_dataset():\n",
    "\n",
    "    plr_df=plr.read_csv(\"custom_1988_2020.csv\")\n",
    "\n",
    "# Call the function\n",
    "load_dataset()\n"
   ]
  },
  {
   "cell_type": "markdown",
   "id": "3c747884-944d-4de0-a3ee-ece52c2b02f3",
   "metadata": {},
   "source": [
    "Above here I tried the file sized 5GB, duck db loaded the data and responded in fraction of seconds.\n",
    "\n",
    "With both pandas and Polars, the Notebook crashed. \n",
    " "
   ]
  },
  {
   "cell_type": "code",
   "execution_count": 14,
   "id": "06a52890-0c38-4c4c-9766-dc8059f51355",
   "metadata": {},
   "outputs": [
    {
     "data": {
      "text/plain": [
       "┌─────────────────────┬───────────┬─────────────────┬────────┬───────────┬──────────┬────────┬────────┬────────┬────────┬────────┬────────┬────────┬────────┬────────┬───────────┬───────────┬─────────┬────────┬───────────┬──────────┬─────────┬──────────────┬─────────────┬────────┐\n",
       "│        date         │ sitename  │     county      │  aqi   │ pollutant │  status  │  so2   │   co   │   o3   │ o3_8hr │  pm10  │ pm2.5  │  no2   │  nox   │   no   │ windspeed │ winddirec │  unit   │ co_8hr │ pm2.5_avg │ pm10_avg │ so2_avg │  longitude   │  latitude   │ siteid │\n",
       "│      timestamp      │  varchar  │     varchar     │ double │  varchar  │ varchar  │ double │ double │ double │ double │ double │ double │ double │ double │ double │  varchar  │  varchar  │ varchar │ double │  double   │  double  │ double  │    double    │   double    │ double │\n",
       "├─────────────────────┼───────────┼─────────────────┼────────┼───────────┼──────────┼────────┼────────┼────────┼────────┼────────┼────────┼────────┼────────┼────────┼───────────┼───────────┼─────────┼────────┼───────────┼──────────┼─────────┼──────────────┼─────────────┼────────┤\n",
       "│ 2024-08-31 23:00:00 │ Hukou     │ Hsinchu County  │   62.0 │ PM2.5     │ Moderate │    0.9 │   0.17 │   35.0 │   40.2 │   18.0 │   17.0 │    2.3 │    2.6 │    0.3 │ 2.3       │ 225       │ NULL    │    0.2 │      20.1 │     26.0 │     1.0 │ 121.03886894 │ 24.90009696 │   22.0 │\n",
       "│ 2024-08-31 23:00:00 │ Zhongming │ Taichung City   │   50.0 │ NULL      │ Good     │    1.6 │   0.32 │   27.9 │   35.1 │   27.0 │   14.0 │    7.6 │    9.3 │    1.6 │ 1.1       │ 184       │ NULL    │    0.2 │      15.3 │     23.0 │     1.0 │   120.641092 │   24.151958 │   31.0 │\n",
       "│ 2024-08-31 23:00:00 │ Zhudong   │ Hsinchu County  │   45.0 │ NULL      │ Good     │    0.4 │   0.17 │   25.1 │   40.6 │   21.0 │   13.0 │    2.9 │    4.1 │    1.1 │ 0.4       │ 210       │ NULL    │    0.2 │      13.8 │     24.0 │     0.0 │ 121.08895493 │ 24.74091408 │   23.0 │\n",
       "│ 2024-08-31 23:00:00 │ Hsinchu   │ Hsinchu City    │   42.0 │ NULL      │ Good     │    0.8 │    0.2 │   30.0 │   35.9 │   19.0 │   10.0 │    4.0 │    4.8 │    0.7 │ 1.9       │ 239       │ NULL    │    0.2 │      13.0 │     26.0 │     1.0 │ 120.97236752 │  24.8056356 │   24.0 │\n",
       "│ 2024-08-31 23:00:00 │ Toufen    │ Miaoli County   │   50.0 │ NULL      │ Good     │    1.0 │   0.16 │   33.5 │   35.9 │   18.0 │   14.0 │    1.8 │    3.1 │    1.2 │ 1.8       │ 259       │ NULL    │    0.1 │      15.3 │     28.0 │     1.0 │ 120.89869286 │ 24.69690679 │   25.0 │\n",
       "│ 2024-08-31 23:00:00 │ Miaoli    │ Miaoli County   │   40.0 │ NULL      │ Good     │    1.1 │   0.17 │   35.2 │   35.0 │   15.0 │   12.0 │    4.0 │    5.1 │    1.1 │ 1.4       │ 235       │ NULL    │    0.1 │      12.2 │     17.0 │     1.0 │ 120.82011468 │ 24.56499183 │   26.0 │\n",
       "│ 2024-08-31 23:00:00 │ Sanyi     │ Miaoli County   │   39.0 │ NULL      │ Good     │    0.9 │   0.18 │   35.3 │   42.9 │   14.0 │    9.0 │    2.4 │    3.1 │    0.7 │ 0.6       │ 203       │ NULL    │    0.1 │      11.4 │     16.0 │     0.0 │ 120.75956754 │ 24.38248443 │   27.0 │\n",
       "│ 2024-08-31 23:00:00 │ Fengyuan  │ Taichung City   │   44.0 │ NULL      │ Good     │    1.3 │   0.24 │   24.6 │   39.7 │   21.0 │   12.0 │    6.8 │    7.3 │    0.5 │ 1.2       │ 38        │ NULL    │    0.2 │      13.5 │     21.0 │     1.0 │ 120.74252414 │ 24.25699731 │   28.0 │\n",
       "│ 2024-08-31 23:00:00 │ Shalu     │ Taichung City   │   46.0 │ NULL      │ Good     │    2.5 │    0.2 │   30.3 │   40.4 │   33.0 │   16.0 │    7.3 │    7.7 │    0.3 │ 0.5       │ 8         │ NULL    │    0.1 │      14.2 │     26.0 │     1.0 │   120.568794 │   24.225628 │   29.0 │\n",
       "│ 2024-08-31 23:00:00 │ Dali      │ Taichung City   │   49.0 │ NULL      │ Good     │    0.7 │   0.24 │   29.4 │   37.0 │   20.0 │   12.0 │    5.6 │    6.3 │    0.7 │ 0.9       │ 97        │ NULL    │    0.2 │      15.1 │     21.0 │     0.0 │ 120.67844444 │ 24.09961111 │   30.0 │\n",
       "│          ·          │  ·        │      ·          │     ·  │  ·        │  ·       │     ·  │     ·  │     ·  │     ·  │     ·  │     ·  │     ·  │     ·  │     ·  │  ·        │ ·         │  ·      │     ·  │        ·  │       ·  │      ·  │        ·     │       ·     │     ·  │\n",
       "│          ·          │  ·        │      ·          │     ·  │  ·        │  ·       │     ·  │     ·  │     ·  │     ·  │     ·  │     ·  │     ·  │     ·  │     ·  │  ·        │ ·         │  ·      │     ·  │        ·  │       ·  │      ·  │        ·     │       ·     │     ·  │\n",
       "│          ·          │  ·        │      ·          │     ·  │  ·        │  ·       │     ·  │     ·  │     ·  │     ·  │     ·  │     ·  │     ·  │     ·  │     ·  │  ·        │ ·         │  ·      │     ·  │        ·  │       ·  │      ·  │        ·     │       ·     │     ·  │\n",
       "│ 2024-08-27 02:00:00 │ Yilan     │ Yilan County    │   41.0 │ NULL      │ Good     │    0.6 │   0.14 │   25.7 │   40.9 │   24.0 │   15.0 │    2.5 │    3.3 │    0.8 │ 0.4       │ 345       │ NULL    │    0.1 │      12.5 │     20.0 │     1.0 │   121.746394 │   24.747917 │   65.0 │\n",
       "│ 2024-08-27 02:00:00 │ Dongshan  │ Yilan County    │   46.0 │ NULL      │ Good     │    1.1 │    0.2 │   26.5 │   32.9 │   21.0 │   15.0 │    2.7 │    3.4 │    0.6 │ 1         │ 291       │ NULL    │    0.2 │      14.2 │     26.0 │     1.0 │   121.792928 │   24.632203 │   66.0 │\n",
       "│ 2024-08-27 02:00:00 │ Sanchong  │ New Taipei City │   53.0 │ PM2.5     │ Moderate │    1.1 │   0.64 │    5.8 │   10.9 │   33.0 │   16.0 │   26.4 │   56.7 │   30.3 │ -         │ -         │ NULL    │    0.7 │      16.2 │     26.0 │     1.0 │   121.493806 │   25.072611 │   67.0 │\n",
       "│ 2024-08-27 02:00:00 │ Zhongli   │ Taoyuan City    │   53.0 │ PM2.5     │ Moderate │    0.7 │   0.44 │   22.5 │   20.7 │   24.0 │   15.0 │   13.7 │   17.3 │    3.5 │ 0.3       │ 224       │ NULL    │    0.7 │      16.5 │     23.0 │     1.0 │   121.221667 │   24.953278 │   68.0 │\n",
       "│ 2024-08-27 02:00:00 │ Zhushan   │ Nantou County   │   44.0 │ NULL      │ Good     │    0.6 │   0.09 │   12.0 │   19.1 │   23.0 │   11.0 │    3.1 │    3.8 │    0.7 │ 1         │ 230       │ NULL    │    0.1 │      13.7 │     23.0 │     1.0 │   120.677306 │   23.756389 │   69.0 │\n",
       "│ 2024-08-27 02:00:00 │ Yonghe    │ New Taipei City │   52.0 │ PM2.5     │ Moderate │    0.4 │   0.31 │   15.3 │   17.8 │   26.0 │   16.0 │    7.2 │    8.4 │    1.2 │ 1.1       │ 166       │ NULL    │    0.6 │      15.9 │     25.0 │     0.0 │   121.516306 │      25.017 │   70.0 │\n",
       "│ 2024-08-27 02:00:00 │ Fuxing    │ Kaohsiung City  │   25.0 │ NULL      │ Good     │    0.8 │   0.17 │   12.1 │   15.6 │   12.0 │    7.0 │   10.0 │   11.6 │    1.6 │ 0.3       │ 130       │ NULL    │    0.3 │       7.7 │     13.0 │     1.0 │   120.312017 │   22.608711 │   71.0 │\n",
       "│ 2024-08-27 02:00:00 │ Puli      │ Nantou County   │   55.0 │ PM2.5     │ Moderate │    0.8 │   0.17 │   12.7 │   27.7 │   25.0 │   14.0 │    3.2 │    4.5 │    1.3 │ 0.3       │ 91        │ NULL    │    0.1 │      17.0 │     22.0 │     1.0 │   120.967903 │   23.968842 │   72.0 │\n",
       "│ 2024-08-27 02:00:00 │ Kinmen    │ Kinmen County   │   74.0 │ PM2.5     │ Moderate │    1.3 │   0.22 │   41.2 │   42.6 │   33.0 │   28.0 │   10.8 │   11.4 │    0.6 │ 0.8       │ 197       │ NULL    │    0.1 │      25.0 │     24.0 │     0.0 │   118.312256 │   24.432133 │   77.0 │\n",
       "│ 2024-08-27 02:00:00 │ Hualien   │ Hualien County  │   33.0 │ NULL      │ Good     │    0.3 │   0.14 │   19.3 │   32.0 │   27.0 │   10.0 │    1.6 │    2.3 │    0.6 │ 2.4       │ 214       │ NULL    │    0.1 │      10.3 │     25.0 │     0.0 │   121.599769 │   23.971306 │   63.0 │\n",
       "├─────────────────────┴───────────┴─────────────────┴────────┴───────────┴──────────┴────────┴────────┴────────┴────────┴────────┴────────┴────────┴────────┴────────┴───────────┴───────────┴─────────┴────────┴───────────┴──────────┴─────────┴──────────────┴─────────────┴────────┤\n",
       "│ ? rows (>9999 rows, 20 shown)                                                                                                                                                                                                                                             25 columns │\n",
       "└──────────────────────────────────────────────────────────────────────────────────────────────────────────────────────────────────────────────────────────────────────────────────────────────────────────────────────────────────────────────────────────────────────────────────────┘"
      ]
     },
     "execution_count": 14,
     "metadata": {},
     "output_type": "execute_result"
    }
   ],
   "source": [
    "db_df=duckdb.read_csv(\"air_quality.csv\")\n",
    "duckdb.sql(\"Select * from db_df\")"
   ]
  },
  {
   "cell_type": "code",
   "execution_count": 36,
   "id": "e934c7d5-a7f9-48f8-9258-54d348deea13",
   "metadata": {},
   "outputs": [
    {
     "name": "stdout",
     "output_type": "stream",
     "text": [
      "Time Elapsed is 1.8867056369781494\n"
     ]
    }
   ],
   "source": [
    "start = time.time()\n",
    "\n",
    "duckdb.sql(\"\"\"\n",
    "Select sitename, county, aqi, status as sitename_char from db_df\n",
    "WHERE aqi<50\n",
    "               \n",
    "\"\"\"\n",
    ").write_csv(\"Aqi.csv\")\n",
    "\n",
    "\n",
    "end= time.time()\n",
    "\n",
    "\n",
    "print(f\"Time Elapsed is {end-start}\")"
   ]
  },
  {
   "cell_type": "markdown",
   "id": "4523bba3-1c8f-4c70-887a-49c9aa3a79d6",
   "metadata": {},
   "source": [
    "From above we know that duck db was able to process a large file and also write thge results to csv file in les than 2 seconds.\n",
    "\n",
    "Both Pandas and Polars resulted in crashing of notebook"
   ]
  },
  {
   "cell_type": "code",
   "execution_count": null,
   "id": "15d01327-6aa4-478e-ab31-00fb9b5b7c36",
   "metadata": {},
   "outputs": [],
   "source": []
  }
 ],
 "metadata": {
  "kernelspec": {
   "display_name": "Python 3 (ipykernel)",
   "language": "python",
   "name": "python3"
  },
  "language_info": {
   "codemirror_mode": {
    "name": "ipython",
    "version": 3
   },
   "file_extension": ".py",
   "mimetype": "text/x-python",
   "name": "python",
   "nbconvert_exporter": "python",
   "pygments_lexer": "ipython3",
   "version": "3.11.2"
  }
 },
 "nbformat": 4,
 "nbformat_minor": 5
}
