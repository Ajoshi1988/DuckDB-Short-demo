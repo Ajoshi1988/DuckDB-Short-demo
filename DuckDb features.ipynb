{
 "cells": [
  {
   "cell_type": "code",
   "execution_count": 1,
   "id": "d25481ab-0ae9-4423-9cf9-553391d452ab",
   "metadata": {},
   "outputs": [],
   "source": [
    "import duckdb\n",
    "import pandas as pd\n",
    "import timeit\n",
    "import time\n",
    "import polars as plr"
   ]
  },
  {
   "cell_type": "code",
   "execution_count": 2,
   "id": "af4e441a-456d-4f23-9c0a-d9299e7a1bc5",
   "metadata": {},
   "outputs": [],
   "source": [
    "def measure_time(func):\n",
    "    def wrapper(*args, **kwargs):\n",
    "        # Code before calling the original function\n",
    "\n",
    "       \n",
    "        \n",
    "        start = time.time()\n",
    "        result = func(*args, **kwargs)\n",
    "        end = time.time()\n",
    "\n",
    "        time_taken=end-start\n",
    "        print(f\"Time elapased is {time_taken} seconds\")\n",
    "        return time_taken\n",
    "    return wrapper\n"
   ]
  },
  {
   "cell_type": "markdown",
   "id": "47f02b11-62d5-4a5e-9082-79434fc9666b",
   "metadata": {},
   "source": [
    "Concurrency"
   ]
  },
  {
   "cell_type": "code",
   "execution_count": 3,
   "id": "a385f769-fe38-460b-a296-73f6107e449a",
   "metadata": {},
   "outputs": [
    {
     "data": {
      "text/plain": [
       "<duckdb.duckdb.DuckDBPyConnection at 0x266d3193170>"
      ]
     },
     "execution_count": 3,
     "metadata": {},
     "output_type": "execute_result"
    }
   ],
   "source": [
    "import duckdb\n",
    "from threading import Thread, current_thread\n",
    "import random\n",
    "\n",
    "duckdb_con = duckdb.connect('my_peristent_db.duckdb')\n",
    "# Use connect without parameters for an in-memory database\n",
    "# duckdb_con = duckdb.connect()\n",
    "duckdb_con.execute(\"\"\"\n",
    "    CREATE OR REPLACE TABLE my_inserts (\n",
    "        thread_name VARCHAR,\n",
    "        insert_time TIMESTAMP DEFAULT current_timestamp\n",
    "    )\n",
    "\"\"\")"
   ]
  },
  {
   "cell_type": "code",
   "execution_count": 4,
   "id": "e1c863f7-de58-4d18-8ef5-27a518392ba8",
   "metadata": {},
   "outputs": [],
   "source": [
    "def write_from_thread(duckdb_con):\n",
    "    # Create a DuckDB connection specifically for this thread\n",
    "    local_con = duckdb_con.cursor()\n",
    "    # Insert a row with the name of the thread. insert_time is auto-generated.\n",
    "    thread_name = str(current_thread().name)\n",
    "    result = local_con.execute(\"\"\"\n",
    "        INSERT INTO my_inserts (thread_name)\n",
    "        VALUES (?)\n",
    "    \"\"\", (thread_name,)).fetchall()\n",
    "\n",
    "def read_from_thread(duckdb_con):\n",
    "    # Create a DuckDB connection specifically for this thread\n",
    "    local_con = duckdb_con.cursor()\n",
    "    # Query the current row count\n",
    "    thread_name = str(current_thread().name)\n",
    "    results = local_con.execute(\"\"\"\n",
    "        SELECT\n",
    "            ? AS thread_name,\n",
    "            count(*) AS row_counter,\n",
    "            current_timestamp\n",
    "        FROM my_inserts\n",
    "    \"\"\", (thread_name,)).fetchall()\n",
    "    print(results)"
   ]
  },
  {
   "cell_type": "code",
   "execution_count": 5,
   "id": "e0a215bc-0b7b-48d2-937d-c8f406f142af",
   "metadata": {},
   "outputs": [],
   "source": [
    "write_thread_count = 50\n",
    "read_thread_count = 5\n",
    "threads = []\n",
    "\n",
    "# Create multiple writer and reader threads (in the same process)\n",
    "# Pass in the same connection as an argument\n",
    "for i in range(write_thread_count):\n",
    "    threads.append(Thread(target = write_from_thread,\n",
    "                            args = (duckdb_con,),\n",
    "                            name = 'write_thread_' + str(i)))\n",
    "\n",
    "for j in range(read_thread_count):\n",
    "    threads.append(Thread(target = read_from_thread,\n",
    "                            args = (duckdb_con,),\n",
    "                            name = 'read_thread_' + str(j)))\n",
    "\n",
    "# Shuffle the threads to simulate a mix of readers and writers\n",
    "random.seed(6) # Set the seed to ensure consistent results when testing\n",
    "random.shuffle(threads)"
   ]
  },
  {
   "cell_type": "code",
   "execution_count": 6,
   "id": "36ea602d-0ae4-4124-9279-723b7dbf885e",
   "metadata": {},
   "outputs": [
    {
     "name": "stdout",
     "output_type": "stream",
     "text": [
      "[('read_thread_4', 23, datetime.datetime(2024, 9, 26, 17, 37, 21, 929000, tzinfo=<DstTzInfo 'Asia/Calcutta' IST+5:30:00 STD>))]\n",
      "[('read_thread_0', 37, datetime.datetime(2024, 9, 26, 17, 37, 21, 939000, tzinfo=<DstTzInfo 'Asia/Calcutta' IST+5:30:00 STD>))]\n",
      "[('read_thread_2', 36, datetime.datetime(2024, 9, 26, 17, 37, 21, 938000, tzinfo=<DstTzInfo 'Asia/Calcutta' IST+5:30:00 STD>))]\n",
      "[('read_thread_3', 19, datetime.datetime(2024, 9, 26, 17, 37, 21, 927000, tzinfo=<DstTzInfo 'Asia/Calcutta' IST+5:30:00 STD>))]\n",
      "[('read_thread_1', 1, datetime.datetime(2024, 9, 26, 17, 37, 21, 915000, tzinfo=<DstTzInfo 'Asia/Calcutta' IST+5:30:00 STD>))]\n",
      "        thread_name             insert_time\n",
      "0   write_thread_39 2024-09-26 17:37:21.905\n",
      "1   write_thread_40 2024-09-26 17:37:21.905\n",
      "2   write_thread_27 2024-09-26 17:37:21.905\n",
      "3    write_thread_4 2024-09-26 17:37:21.906\n",
      "4   write_thread_38 2024-09-26 17:37:21.906\n",
      "5   write_thread_41 2024-09-26 17:37:21.907\n",
      "6   write_thread_22 2024-09-26 17:37:21.908\n",
      "7   write_thread_28 2024-09-26 17:37:21.909\n",
      "8   write_thread_32 2024-09-26 17:37:21.909\n",
      "9    write_thread_7 2024-09-26 17:37:21.910\n",
      "10  write_thread_24 2024-09-26 17:37:21.912\n",
      "11  write_thread_15 2024-09-26 17:37:21.912\n",
      "12  write_thread_43 2024-09-26 17:37:21.913\n",
      "13  write_thread_46 2024-09-26 17:37:21.915\n",
      "14  write_thread_45 2024-09-26 17:37:21.915\n",
      "15  write_thread_18 2024-09-26 17:37:21.915\n",
      "16  write_thread_33 2024-09-26 17:37:21.916\n",
      "17   write_thread_3 2024-09-26 17:37:21.917\n",
      "18  write_thread_14 2024-09-26 17:37:21.917\n",
      "19   write_thread_8 2024-09-26 17:37:21.919\n",
      "20  write_thread_35 2024-09-26 17:37:21.919\n",
      "21  write_thread_11 2024-09-26 17:37:21.919\n",
      "22  write_thread_29 2024-09-26 17:37:21.919\n",
      "23  write_thread_10 2024-09-26 17:37:21.920\n",
      "24  write_thread_13 2024-09-26 17:37:21.920\n",
      "25  write_thread_47 2024-09-26 17:37:21.923\n",
      "26  write_thread_44 2024-09-26 17:37:21.924\n",
      "27  write_thread_19 2024-09-26 17:37:21.924\n",
      "28  write_thread_21 2024-09-26 17:37:21.925\n",
      "29  write_thread_25 2024-09-26 17:37:21.925\n",
      "30  write_thread_49 2024-09-26 17:37:21.926\n",
      "31   write_thread_6 2024-09-26 17:37:21.927\n",
      "32  write_thread_34 2024-09-26 17:37:21.928\n",
      "33  write_thread_12 2024-09-26 17:37:21.929\n",
      "34  write_thread_26 2024-09-26 17:37:21.929\n",
      "35  write_thread_17 2024-09-26 17:37:21.930\n",
      "36   write_thread_1 2024-09-26 17:37:21.930\n",
      "37  write_thread_20 2024-09-26 17:37:21.931\n",
      "38  write_thread_23 2024-09-26 17:37:21.932\n",
      "39  write_thread_30 2024-09-26 17:37:21.932\n",
      "40  write_thread_42 2024-09-26 17:37:21.933\n",
      "41  write_thread_37 2024-09-26 17:37:21.933\n",
      "42   write_thread_9 2024-09-26 17:37:21.934\n",
      "43   write_thread_0 2024-09-26 17:37:21.935\n",
      "44  write_thread_16 2024-09-26 17:37:21.936\n",
      "45  write_thread_48 2024-09-26 17:37:21.936\n",
      "46   write_thread_2 2024-09-26 17:37:21.936\n",
      "47  write_thread_31 2024-09-26 17:37:21.937\n",
      "48  write_thread_36 2024-09-26 17:37:21.938\n",
      "49   write_thread_5 2024-09-26 17:37:21.938\n"
     ]
    }
   ],
   "source": [
    "# Kick off all threads in parallel\n",
    "for thread in threads:\n",
    "    thread.start()\n",
    "\n",
    "# Ensure all threads complete before printing final results\n",
    "for thread in threads:\n",
    "    thread.join()\n",
    "\n",
    "print(duckdb_con.execute(\"\"\"\n",
    "    SELECT *\n",
    "    FROM my_inserts\n",
    "    ORDER BY\n",
    "        insert_time\n",
    "\"\"\").df())"
   ]
  },
  {
   "cell_type": "markdown",
   "id": "a22f4c45-3a43-4021-80e2-b0a06c275243",
   "metadata": {},
   "source": [
    "In the above set of write threads and a set of read threads were combined , shuffled and executed.\n",
    "\n",
    "While Pandas, is single threaded, such as operation is not possible.\n",
    "\n",
    "But with DuckDB, multiple read and write operations are possible simultanously.\n",
    "DuckDB not only allows faster executionn of queries but also parallel execution of queries too.\n",
    " \n"
   ]
  },
  {
   "cell_type": "markdown",
   "id": "84607c29-b0bf-4b43-b000-35b384da97a5",
   "metadata": {},
   "source": [
    "Peristence Testing"
   ]
  },
  {
   "cell_type": "code",
   "execution_count": 8,
   "id": "093862b3-9d4e-4b72-9ae1-7892e8b8f380",
   "metadata": {},
   "outputs": [
    {
     "name": "stdout",
     "output_type": "stream",
     "text": [
      "(1, 'Alice', 25)\n",
      "(2, 'Bob', 30)\n"
     ]
    }
   ],
   "source": [
    "con = duckdb.connect('my_database.duckdb')\n",
    "con.execute('''\n",
    "    CREATE TABLE IF NOT EXISTS users (\n",
    "        id INTEGER,\n",
    "        name VARCHAR,\n",
    "        age INTEGER\n",
    "    )\n",
    "''')\n",
    "con.execute(\"INSERT INTO users VALUES (1, 'Alice', 25), (2, 'Bob', 30)\")\n",
    "result = con.execute('SELECT * FROM users').fetchall()\n",
    "\n",
    "\n",
    "for row in result:\n",
    "    print(row)\n",
    "\n",
    "\n",
    "con.close()\n"
   ]
  },
  {
   "cell_type": "code",
   "execution_count": 9,
   "id": "b51008f7-39fd-4d70-86fa-1b22fea46e15",
   "metadata": {},
   "outputs": [
    {
     "name": "stdout",
     "output_type": "stream",
     "text": [
      "(1, 'Alice', 25)\n",
      "(2, 'Bob', 30)\n"
     ]
    }
   ],
   "source": [
    "con = duckdb.connect('my_database.duckdb')\n",
    "result = con.execute('SELECT * FROM users').fetchall()\n",
    "\n",
    "\n",
    "for row in result:\n",
    "    print(row)\n",
    "\n",
    "\n",
    "con.close()\n"
   ]
  },
  {
   "cell_type": "code",
   "execution_count": null,
   "id": "99e8c3d1-68ca-49e1-a931-1330f5a46476",
   "metadata": {},
   "outputs": [],
   "source": []
  },
  {
   "cell_type": "code",
   "execution_count": null,
   "id": "85a1f07c-512a-48d1-88fc-6e51fad18b4a",
   "metadata": {},
   "outputs": [],
   "source": []
  },
  {
   "cell_type": "code",
   "execution_count": null,
   "id": "6c3c84e0-1597-415c-9051-6a72148ca8e8",
   "metadata": {},
   "outputs": [],
   "source": []
  }
 ],
 "metadata": {
  "kernelspec": {
   "display_name": "Python 3 (ipykernel)",
   "language": "python",
   "name": "python3"
  },
  "language_info": {
   "codemirror_mode": {
    "name": "ipython",
    "version": 3
   },
   "file_extension": ".py",
   "mimetype": "text/x-python",
   "name": "python",
   "nbconvert_exporter": "python",
   "pygments_lexer": "ipython3",
   "version": "3.11.2"
  }
 },
 "nbformat": 4,
 "nbformat_minor": 5
}
