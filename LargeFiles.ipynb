{
 "cells": [
  {
   "cell_type": "code",
   "execution_count": 4,
   "id": "049102c8-d520-4e5d-9135-1ca2e0a4eab7",
   "metadata": {},
   "outputs": [],
   "source": [
    "import duckdb\n",
    "import pandas as pd\n",
    "import timeit\n",
    "import time\n",
    "import polars as plr"
   ]
  },
  {
   "cell_type": "code",
   "execution_count": 5,
   "id": "4e1eee2f-3b2f-4720-bf04-dfa4205f2f15",
   "metadata": {},
   "outputs": [],
   "source": [
    "def measure_time(func):\n",
    "    def wrapper(*args, **kwargs):\n",
    "        # Code before calling the original function\n",
    "\n",
    "       \n",
    "        \n",
    "        start = time.time()\n",
    "        result = func(*args, **kwargs)\n",
    "        end = time.time()\n",
    "\n",
    "        time_taken=end-start\n",
    "        print(f\"Time elapased is {time_taken} seconds\")\n",
    "        return time_taken\n",
    "    return wrapper\n"
   ]
  },
  {
   "cell_type": "markdown",
   "id": "de535f05-f022-4d54-a2ba-a85cf5e07486",
   "metadata": {},
   "source": [
    "Below code demonstartes the load time"
   ]
  },
  {
   "cell_type": "code",
   "execution_count": 7,
   "id": "677d400e-645d-473e-94f9-12981f7e513e",
   "metadata": {},
   "outputs": [
    {
     "name": "stdout",
     "output_type": "stream",
     "text": [
      "Time elapased is 0.23747730255126953 seconds\n"
     ]
    },
    {
     "data": {
      "text/plain": [
       "0.23747730255126953"
      ]
     },
     "execution_count": 7,
     "metadata": {},
     "output_type": "execute_result"
    }
   ],
   "source": [
    "@measure_time\n",
    "def load_dataset():\n",
    "\n",
    "    db_df=duckdb.read_csv(\"Crime_Data.csv\")\n",
    "\n",
    "# Call the function\n",
    "load_dataset()\n"
   ]
  },
  {
   "cell_type": "code",
   "execution_count": 8,
   "id": "8cbebf04-95d9-4ead-ac8f-1037931c61df",
   "metadata": {},
   "outputs": [
    {
     "name": "stdout",
     "output_type": "stream",
     "text": [
      "Time elapased is 5.07452392578125 seconds\n"
     ]
    },
    {
     "data": {
      "text/plain": [
       "5.07452392578125"
      ]
     },
     "execution_count": 8,
     "metadata": {},
     "output_type": "execute_result"
    }
   ],
   "source": [
    "\n",
    "@measure_time\n",
    "def load_dataset():\n",
    "\n",
    "    pd_df=pd.read_csv(\"Crime_Data.csv\")\n",
    "\n",
    "# Call the function\n",
    "load_dataset()\n",
    "\n",
    "\n"
   ]
  },
  {
   "cell_type": "code",
   "execution_count": null,
   "id": "ebbc938b-cb6b-4c5d-a92a-ed6d34687392",
   "metadata": {},
   "outputs": [],
   "source": []
  },
  {
   "cell_type": "code",
   "execution_count": 9,
   "id": "d9367191-9a14-4871-a8e7-00f8da438d1e",
   "metadata": {},
   "outputs": [
    {
     "name": "stdout",
     "output_type": "stream",
     "text": [
      "Time elapased is 0.386462926864624 seconds\n"
     ]
    },
    {
     "data": {
      "text/plain": [
       "0.386462926864624"
      ]
     },
     "execution_count": 9,
     "metadata": {},
     "output_type": "execute_result"
    }
   ],
   "source": [
    "@measure_time\n",
    "def load_dataset():\n",
    "\n",
    "    plr_df=plr.read_csv(\"Crime_Data.csv\")\n",
    "\n",
    "# Call the function\n",
    "load_dataset()\n"
   ]
  },
  {
   "cell_type": "markdown",
   "id": "53732e3b-c6bc-4051-b279-0820cd02501c",
   "metadata": {},
   "source": [
    "In loading time pandas > polars > duckdb\n",
    "\n",
    "Duckdb is the winner"
   ]
  },
  {
   "cell_type": "markdown",
   "id": "4403e6a6-a108-4d1c-9bad-719e967cffbc",
   "metadata": {},
   "source": [
    "\n",
    "Demo for the computation time, a simple groupby operation.\n"
   ]
  },
  {
   "cell_type": "code",
   "execution_count": 21,
   "id": "f14df720-8049-4143-868a-1dab9bd1ef04",
   "metadata": {},
   "outputs": [
    {
     "name": "stdout",
     "output_type": "stream",
     "text": [
      "Time elapased is 6.000209331512451 seconds\n"
     ]
    },
    {
     "data": {
      "text/plain": [
       "6.000209331512451"
      ]
     },
     "execution_count": 21,
     "metadata": {},
     "output_type": "execute_result"
    }
   ],
   "source": [
    "@measure_time\n",
    "def  groupby_dataset():\n",
    "\n",
    "    pd_df=pd.read_csv(\"Crime_Data.csv\")\n",
    "    pd_df=pd_df[['AREA NAME', 'Vict Age', 'Vict Sex', 'Weapon Used Cd']].groupby('AREA NAME').sum()\n",
    "    \n",
    "# Call the function\n",
    "groupby_dataset()\n",
    "\n"
   ]
  },
  {
   "cell_type": "code",
   "execution_count": 22,
   "id": "913956a9-4513-43d0-b092-802f7a54866d",
   "metadata": {},
   "outputs": [
    {
     "name": "stdout",
     "output_type": "stream",
     "text": [
      "Time elapased is 0.5535149574279785 seconds\n"
     ]
    },
    {
     "data": {
      "text/plain": [
       "0.5535149574279785"
      ]
     },
     "execution_count": 22,
     "metadata": {},
     "output_type": "execute_result"
    }
   ],
   "source": [
    "@measure_time\n",
    "def  groupby_dataset():\n",
    "\n",
    "    plr_df=plr.read_csv(\"Crime_Data.csv\")\n",
    "    plr_df=plr_df[['AREA NAME', 'Vict Age', 'Vict Sex', 'Weapon Used Cd']].group_by('AREA NAME').sum()\n",
    "\n",
    "# Call the function\n",
    "groupby_dataset()"
   ]
  },
  {
   "cell_type": "code",
   "execution_count": 43,
   "id": "d0be0858-d787-43d7-924c-e986bfcf22a9",
   "metadata": {},
   "outputs": [
    {
     "name": "stdout",
     "output_type": "stream",
     "text": [
      "Time elapased is 0.26461315155029297 seconds\n"
     ]
    },
    {
     "data": {
      "text/plain": [
       "0.26461315155029297"
      ]
     },
     "execution_count": 43,
     "metadata": {},
     "output_type": "execute_result"
    }
   ],
   "source": [
    "@measure_time\n",
    "def  groupby_dataset():\n",
    "\n",
    "    duck_df=duckdb.sql(\"Select * FROM  Crime_Data.csv\")\n",
    "    duckdb.sql(\"\"\" Select \"AREA NAME\", ANY_VALUE( \"Vict Sex\"), ANY_VALUE( \"Weapon Used Cd\"),   SUM(\"Vict Age\") as vict_age  FROM duck_df \n",
    "    \n",
    "    GROUP BY \"AREA NAME\"\n",
    "    \"\"\")\n",
    "    \n",
    "    \n",
    "    \n",
    "\n",
    "# Call the function\n",
    "groupby_dataset()"
   ]
  },
  {
   "cell_type": "markdown",
   "id": "373d174f-21f0-4c1d-9b99-2815d593fdd0",
   "metadata": {},
   "source": [
    "In the group by computatiojn, pandas > polars > duckdb\n",
    "Duck Db is the winner"
   ]
  },
  {
   "cell_type": "code",
   "execution_count": null,
   "id": "03d66529-0b65-4894-a091-6ee5d44f4180",
   "metadata": {},
   "outputs": [],
   "source": []
  },
  {
   "cell_type": "markdown",
   "id": "66629afd-d5d9-47a2-9c03-92a2d60c04d3",
   "metadata": {},
   "source": [
    "One more demo for the Filter operations\n"
   ]
  },
  {
   "cell_type": "code",
   "execution_count": 45,
   "id": "76f6e012-fa60-4e59-9245-e69aa4b568b8",
   "metadata": {},
   "outputs": [
    {
     "name": "stdout",
     "output_type": "stream",
     "text": [
      "Time elapased is 0.33231258392333984 seconds\n"
     ]
    },
    {
     "data": {
      "text/plain": [
       "0.33231258392333984"
      ]
     },
     "execution_count": 45,
     "metadata": {},
     "output_type": "execute_result"
    }
   ],
   "source": [
    "@measure_time\n",
    "def  filter_dataset():\n",
    "\n",
    "    duck_df=duckdb.sql(\"Select * FROM  Crime_Data.csv\")\n",
    "    duckdb.sql(\"\"\" Select* FROM duck_df\n",
    "                   WHERE \"AREA NAME\" = 'Central'\n",
    "        \n",
    "    \"\"\")\n",
    "    \n",
    "    \n",
    "    \n",
    "\n",
    "# Call the function\n",
    "filter_dataset()"
   ]
  },
  {
   "cell_type": "code",
   "execution_count": 46,
   "id": "e6c13bbd-5d70-4485-b9bf-ed43c943941c",
   "metadata": {},
   "outputs": [
    {
     "name": "stdout",
     "output_type": "stream",
     "text": [
      "Time elapased is 4.774746894836426 seconds\n"
     ]
    },
    {
     "data": {
      "text/plain": [
       "4.774746894836426"
      ]
     },
     "execution_count": 46,
     "metadata": {},
     "output_type": "execute_result"
    }
   ],
   "source": [
    "@measure_time\n",
    "def  filter_dataset():\n",
    "\n",
    "    pd_df=pd.read_csv(\"Crime_Data.csv\")\n",
    "    pd_df[pd_df['AREA NAME']=='Central']\n",
    "    \n",
    "# Call the function\n",
    "filter_dataset()"
   ]
  },
  {
   "cell_type": "code",
   "execution_count": 48,
   "id": "6bf2df7d-c864-44d5-ad9f-141099989c10",
   "metadata": {},
   "outputs": [
    {
     "name": "stdout",
     "output_type": "stream",
     "text": [
      "Time elapased is 0.5309033393859863 seconds\n"
     ]
    },
    {
     "data": {
      "text/plain": [
       "0.5309033393859863"
      ]
     },
     "execution_count": 48,
     "metadata": {},
     "output_type": "execute_result"
    }
   ],
   "source": [
    "@measure_time\n",
    "def  filter_dataset():\n",
    "\n",
    "    plr_df=plr.read_csv(\"Crime_Data.csv\")\n",
    "    plr_df.filter(plr.col=='Central')\n",
    "    \n",
    "# Call the function\n",
    "filter_dataset()"
   ]
  },
  {
   "cell_type": "markdown",
   "id": "71415232-65ba-4c3b-8699-35403cea5004",
   "metadata": {},
   "source": [
    "In filtering pandas > polars > duckdb\n",
    "\n",
    "Duck db here is alsso the winner"
   ]
  },
  {
   "cell_type": "code",
   "execution_count": null,
   "id": "5779e977-255c-46a3-8ee1-f3c1d28f245e",
   "metadata": {},
   "outputs": [],
   "source": []
  },
  {
   "cell_type": "code",
   "execution_count": null,
   "id": "e4e564cf-1b63-4c0b-9ca4-2ca385808897",
   "metadata": {},
   "outputs": [],
   "source": []
  },
  {
   "cell_type": "code",
   "execution_count": null,
   "id": "55cafc7f-8fce-48a9-8997-0f32e4b6f544",
   "metadata": {},
   "outputs": [],
   "source": []
  }
 ],
 "metadata": {
  "kernelspec": {
   "display_name": "Python 3 (ipykernel)",
   "language": "python",
   "name": "python3"
  },
  "language_info": {
   "codemirror_mode": {
    "name": "ipython",
    "version": 3
   },
   "file_extension": ".py",
   "mimetype": "text/x-python",
   "name": "python",
   "nbconvert_exporter": "python",
   "pygments_lexer": "ipython3",
   "version": "3.11.2"
  }
 },
 "nbformat": 4,
 "nbformat_minor": 5
}
